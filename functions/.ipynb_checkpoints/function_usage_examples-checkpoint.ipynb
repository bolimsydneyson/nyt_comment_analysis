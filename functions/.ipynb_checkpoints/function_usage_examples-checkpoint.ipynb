{
 "cells": [
  {
   "cell_type": "markdown",
   "metadata": {},
   "source": [
    "# Example for comment_edit.py class functionality"
   ]
  },
  {
   "cell_type": "code",
   "execution_count": 1,
   "metadata": {},
   "outputs": [],
   "source": [
    "from comment_edit import functions\n",
    "nyt = functions()"
   ]
  },
  {
   "cell_type": "markdown",
   "metadata": {},
   "source": [
    "## 1. Articles with comments\n",
    "\n",
    "returns a dataframe as a result"
   ]
  },
  {
   "cell_type": "code",
   "execution_count": 2,
   "metadata": {},
   "outputs": [],
   "source": [
    "# generates clean urls for making API calls\n",
    "urls = nyt.url_generate('https://www.nytimes.com/2020/01/28/world/asia/china-coronavirus.html??exampletrytry.html')"
   ]
  },
  {
   "cell_type": "code",
   "execution_count": 3,
   "metadata": {},
   "outputs": [
    {
     "data": {
      "text/plain": [
       "9"
      ]
     },
     "execution_count": 3,
     "metadata": {},
     "output_type": "execute_result"
    }
   ],
   "source": [
    "# Makes the api call, saves the json result from API in a list\n",
    "jsons = nyt.url_call(urls)\n",
    "\n",
    "len(jsons) # makes 10 calls - so should have 10"
   ]
  },
  {
   "cell_type": "code",
   "execution_count": 4,
   "metadata": {},
   "outputs": [
    {
     "name": "stderr",
     "output_type": "stream",
     "text": [
      "C:\\Users\\bolim\\Anaconda3\\lib\\site-packages\\pandas\\core\\indexing.py:205: SettingWithCopyWarning: \n",
      "A value is trying to be set on a copy of a slice from a DataFrame\n",
      "\n",
      "See the caveats in the documentation: http://pandas.pydata.org/pandas-docs/stable/user_guide/indexing.html#returning-a-view-versus-a-copy\n",
      "  self._setitem_with_indexer(indexer, value)\n"
     ]
    }
   ],
   "source": [
    "# Parses the json file to a dataframe\n",
    "df = nyt.parse_json('https://www.nytimes.com/2020/01/28/world/asia/china-coronavirus.html', jsons)"
   ]
  },
  {
   "cell_type": "code",
   "execution_count": 5,
   "metadata": {},
   "outputs": [
    {
     "data": {
      "text/html": [
       "<div>\n",
       "<style scoped>\n",
       "    .dataframe tbody tr th:only-of-type {\n",
       "        vertical-align: middle;\n",
       "    }\n",
       "\n",
       "    .dataframe tbody tr th {\n",
       "        vertical-align: top;\n",
       "    }\n",
       "\n",
       "    .dataframe thead th {\n",
       "        text-align: right;\n",
       "    }\n",
       "</style>\n",
       "<table border=\"1\" class=\"dataframe\">\n",
       "  <thead>\n",
       "    <tr style=\"text-align: right;\">\n",
       "      <th></th>\n",
       "      <th>userName</th>\n",
       "      <th>cleanName</th>\n",
       "      <th>comment</th>\n",
       "      <th>n_recommend</th>\n",
       "      <th>n_reply</th>\n",
       "      <th>nyt_select</th>\n",
       "      <th>ttlCommentNum</th>\n",
       "      <th>time</th>\n",
       "      <th>time_order</th>\n",
       "      <th>time_order_cap</th>\n",
       "      <th>url</th>\n",
       "      <th>n_rec_log</th>\n",
       "      <th>ttl_comment_log</th>\n",
       "      <th>gender</th>\n",
       "      <th>date</th>\n",
       "      <th>category</th>\n",
       "      <th>category_</th>\n",
       "      <th>biz</th>\n",
       "    </tr>\n",
       "  </thead>\n",
       "  <tbody>\n",
       "    <tr>\n",
       "      <th>0</th>\n",
       "      <td>Ivan</td>\n",
       "      <td>ivan</td>\n",
       "      <td>So the mortality rate is less than 3% of those...</td>\n",
       "      <td>26</td>\n",
       "      <td>13</td>\n",
       "      <td>False</td>\n",
       "      <td>360</td>\n",
       "      <td>2020-01-28 09:33:39</td>\n",
       "      <td>1</td>\n",
       "      <td>1</td>\n",
       "      <td>https://www.nytimes.com/2020/01/28/world/asia/...</td>\n",
       "      <td>3.295837</td>\n",
       "      <td>5.888878</td>\n",
       "      <td>0</td>\n",
       "      <td>'2020/01/28'</td>\n",
       "      <td>'/world/asia/'</td>\n",
       "      <td>world</td>\n",
       "      <td>False</td>\n",
       "    </tr>\n",
       "    <tr>\n",
       "      <th>1</th>\n",
       "      <td>al</td>\n",
       "      <td>al</td>\n",
       "      <td>Saying that \"known cases jumped nearly 60 perc...</td>\n",
       "      <td>56</td>\n",
       "      <td>4</td>\n",
       "      <td>False</td>\n",
       "      <td>360</td>\n",
       "      <td>2020-01-28 09:47:49</td>\n",
       "      <td>2</td>\n",
       "      <td>2</td>\n",
       "      <td>https://www.nytimes.com/2020/01/28/world/asia/...</td>\n",
       "      <td>4.043051</td>\n",
       "      <td>5.888878</td>\n",
       "      <td>0</td>\n",
       "      <td>'2020/01/28'</td>\n",
       "      <td>'/world/asia/'</td>\n",
       "      <td>world</td>\n",
       "      <td>False</td>\n",
       "    </tr>\n",
       "    <tr>\n",
       "      <th>2</th>\n",
       "      <td>interested party</td>\n",
       "      <td>interested</td>\n",
       "      <td>Just when we need a real president we are sadd...</td>\n",
       "      <td>273</td>\n",
       "      <td>4</td>\n",
       "      <td>False</td>\n",
       "      <td>360</td>\n",
       "      <td>2020-01-28 09:48:01</td>\n",
       "      <td>3</td>\n",
       "      <td>3</td>\n",
       "      <td>https://www.nytimes.com/2020/01/28/world/asia/...</td>\n",
       "      <td>5.613128</td>\n",
       "      <td>5.888878</td>\n",
       "      <td>2</td>\n",
       "      <td>'2020/01/28'</td>\n",
       "      <td>'/world/asia/'</td>\n",
       "      <td>world</td>\n",
       "      <td>False</td>\n",
       "    </tr>\n",
       "    <tr>\n",
       "      <th>3</th>\n",
       "      <td>Mike</td>\n",
       "      <td>mike</td>\n",
       "      <td>The Chinese made SARS and they made this new c...</td>\n",
       "      <td>41</td>\n",
       "      <td>12</td>\n",
       "      <td>False</td>\n",
       "      <td>360</td>\n",
       "      <td>2020-01-28 09:51:56</td>\n",
       "      <td>4</td>\n",
       "      <td>4</td>\n",
       "      <td>https://www.nytimes.com/2020/01/28/world/asia/...</td>\n",
       "      <td>3.737670</td>\n",
       "      <td>5.888878</td>\n",
       "      <td>0</td>\n",
       "      <td>'2020/01/28'</td>\n",
       "      <td>'/world/asia/'</td>\n",
       "      <td>world</td>\n",
       "      <td>False</td>\n",
       "    </tr>\n",
       "    <tr>\n",
       "      <th>4</th>\n",
       "      <td>Ron A</td>\n",
       "      <td>ron</td>\n",
       "      <td>I'd like to read much more about the nature of...</td>\n",
       "      <td>5</td>\n",
       "      <td>4</td>\n",
       "      <td>False</td>\n",
       "      <td>360</td>\n",
       "      <td>2020-01-28 09:56:38</td>\n",
       "      <td>5</td>\n",
       "      <td>5</td>\n",
       "      <td>https://www.nytimes.com/2020/01/28/world/asia/...</td>\n",
       "      <td>1.791759</td>\n",
       "      <td>5.888878</td>\n",
       "      <td>0</td>\n",
       "      <td>'2020/01/28'</td>\n",
       "      <td>'/world/asia/'</td>\n",
       "      <td>world</td>\n",
       "      <td>False</td>\n",
       "    </tr>\n",
       "  </tbody>\n",
       "</table>\n",
       "</div>"
      ],
      "text/plain": [
       "           userName   cleanName  \\\n",
       "0              Ivan        ivan   \n",
       "1                al          al   \n",
       "2  interested party  interested   \n",
       "3              Mike        mike   \n",
       "4             Ron A         ron   \n",
       "\n",
       "                                             comment  n_recommend  n_reply  \\\n",
       "0  So the mortality rate is less than 3% of those...           26       13   \n",
       "1  Saying that \"known cases jumped nearly 60 perc...           56        4   \n",
       "2  Just when we need a real president we are sadd...          273        4   \n",
       "3  The Chinese made SARS and they made this new c...           41       12   \n",
       "4  I'd like to read much more about the nature of...            5        4   \n",
       "\n",
       "  nyt_select  ttlCommentNum                 time  time_order  time_order_cap  \\\n",
       "0      False            360  2020-01-28 09:33:39           1               1   \n",
       "1      False            360  2020-01-28 09:47:49           2               2   \n",
       "2      False            360  2020-01-28 09:48:01           3               3   \n",
       "3      False            360  2020-01-28 09:51:56           4               4   \n",
       "4      False            360  2020-01-28 09:56:38           5               5   \n",
       "\n",
       "                                                 url  n_rec_log  \\\n",
       "0  https://www.nytimes.com/2020/01/28/world/asia/...   3.295837   \n",
       "1  https://www.nytimes.com/2020/01/28/world/asia/...   4.043051   \n",
       "2  https://www.nytimes.com/2020/01/28/world/asia/...   5.613128   \n",
       "3  https://www.nytimes.com/2020/01/28/world/asia/...   3.737670   \n",
       "4  https://www.nytimes.com/2020/01/28/world/asia/...   1.791759   \n",
       "\n",
       "   ttl_comment_log  gender          date        category category_    biz  \n",
       "0         5.888878       0  '2020/01/28'  '/world/asia/'     world  False  \n",
       "1         5.888878       0  '2020/01/28'  '/world/asia/'     world  False  \n",
       "2         5.888878       2  '2020/01/28'  '/world/asia/'     world  False  \n",
       "3         5.888878       0  '2020/01/28'  '/world/asia/'     world  False  \n",
       "4         5.888878       0  '2020/01/28'  '/world/asia/'     world  False  "
      ]
     },
     "execution_count": 5,
     "metadata": {},
     "output_type": "execute_result"
    }
   ],
   "source": [
    "df.head() # Output dataframe"
   ]
  },
  {
   "cell_type": "markdown",
   "metadata": {},
   "source": [
    "## 2. Articles _without_ comments\n",
    "\n",
    "returns none"
   ]
  },
  {
   "cell_type": "code",
   "execution_count": 6,
   "metadata": {},
   "outputs": [],
   "source": [
    "urls2 = nyt.url_generate('https://www.nytimes.com/2020/03/26/arts/design/art-basel-coronavirus.html?searchResultPosition=10')"
   ]
  },
  {
   "cell_type": "code",
   "execution_count": 7,
   "metadata": {},
   "outputs": [
    {
     "name": "stdout",
     "output_type": "stream",
     "text": [
      "comments disabled in this article\n"
     ]
    }
   ],
   "source": [
    "jsons2 = nyt.url_call(urls2)"
   ]
  },
  {
   "cell_type": "code",
   "execution_count": 8,
   "metadata": {},
   "outputs": [
    {
     "data": {
      "text/plain": [
       "True"
      ]
     },
     "execution_count": 8,
     "metadata": {},
     "output_type": "execute_result"
    }
   ],
   "source": [
    "jsons2 == None"
   ]
  },
  {
   "cell_type": "markdown",
   "metadata": {},
   "source": [
    "## 3. `loop_through` function\n",
    "\n",
    "This function loops through the urls and returns a dataframe of the articles added together.\n",
    "\n",
    "The function skips (does not append) articles without comments."
   ]
  },
  {
   "cell_type": "code",
   "execution_count": 9,
   "metadata": {},
   "outputs": [],
   "source": [
    "# first two urls have comments, last url does not. Input format should be a list of urls in string\n",
    "article_list = ['https://www.nytimes.com/2020/03/30/us/coronavirus-world-news-updates.html?searchResultPosition=2',\n",
    "                'https://www.nytimes.com/2020/01/28/world/asia/china-coronavirus.html??exampletrytry.html',\n",
    "                'https://www.nytimes.com/2020/03/26/arts/design/art-basel-coronavirus.html?searchResultPosition=10']"
   ]
  },
  {
   "cell_type": "code",
   "execution_count": 10,
   "metadata": {},
   "outputs": [
    {
     "name": "stdout",
     "output_type": "stream",
     "text": [
      "comments disabled in this article\n"
     ]
    }
   ],
   "source": [
    "bigdf = nyt.loop_through(article_list) # If an article does not have comment section, message printed. Dataframe made nonetheless"
   ]
  },
  {
   "cell_type": "code",
   "execution_count": 11,
   "metadata": {},
   "outputs": [
    {
     "data": {
      "text/html": [
       "<div>\n",
       "<style scoped>\n",
       "    .dataframe tbody tr th:only-of-type {\n",
       "        vertical-align: middle;\n",
       "    }\n",
       "\n",
       "    .dataframe tbody tr th {\n",
       "        vertical-align: top;\n",
       "    }\n",
       "\n",
       "    .dataframe thead th {\n",
       "        text-align: right;\n",
       "    }\n",
       "</style>\n",
       "<table border=\"1\" class=\"dataframe\">\n",
       "  <thead>\n",
       "    <tr style=\"text-align: right;\">\n",
       "      <th></th>\n",
       "      <th>userName</th>\n",
       "      <th>cleanName</th>\n",
       "      <th>comment</th>\n",
       "      <th>n_recommend</th>\n",
       "      <th>n_reply</th>\n",
       "      <th>nyt_select</th>\n",
       "      <th>ttlCommentNum</th>\n",
       "      <th>time</th>\n",
       "      <th>time_order</th>\n",
       "      <th>time_order_cap</th>\n",
       "      <th>url</th>\n",
       "      <th>n_rec_log</th>\n",
       "      <th>ttl_comment_log</th>\n",
       "      <th>gender</th>\n",
       "      <th>date</th>\n",
       "      <th>category</th>\n",
       "      <th>category_</th>\n",
       "      <th>biz</th>\n",
       "    </tr>\n",
       "  </thead>\n",
       "  <tbody>\n",
       "    <tr>\n",
       "      <th>0</th>\n",
       "      <td>Barking Doggerel</td>\n",
       "      <td>barking</td>\n",
       "      <td>An unfortunately apt display of America's cult...</td>\n",
       "      <td>19</td>\n",
       "      <td>0</td>\n",
       "      <td>False</td>\n",
       "      <td>14</td>\n",
       "      <td>2020-03-30 13:51:22</td>\n",
       "      <td>1</td>\n",
       "      <td>1</td>\n",
       "      <td>https://www.nytimes.com/2020/03/30/us/coronavi...</td>\n",
       "      <td>2.995732</td>\n",
       "      <td>2.70805</td>\n",
       "      <td>2</td>\n",
       "      <td>'2020/03/30'</td>\n",
       "      <td>'/us/'</td>\n",
       "      <td>us</td>\n",
       "      <td>False</td>\n",
       "    </tr>\n",
       "    <tr>\n",
       "      <th>1</th>\n",
       "      <td>Boredom</td>\n",
       "      <td>boredom</td>\n",
       "      <td>Not one of the singers shown in the collage ar...</td>\n",
       "      <td>8</td>\n",
       "      <td>0</td>\n",
       "      <td>False</td>\n",
       "      <td>14</td>\n",
       "      <td>2020-03-30 13:51:25</td>\n",
       "      <td>2</td>\n",
       "      <td>2</td>\n",
       "      <td>https://www.nytimes.com/2020/03/30/us/coronavi...</td>\n",
       "      <td>2.197225</td>\n",
       "      <td>2.70805</td>\n",
       "      <td>2</td>\n",
       "      <td>'2020/03/30'</td>\n",
       "      <td>'/us/'</td>\n",
       "      <td>us</td>\n",
       "      <td>False</td>\n",
       "    </tr>\n",
       "    <tr>\n",
       "      <th>2</th>\n",
       "      <td>cassandra</td>\n",
       "      <td>cassandra</td>\n",
       "      <td>And that good old American marketing virus nev...</td>\n",
       "      <td>7</td>\n",
       "      <td>0</td>\n",
       "      <td>False</td>\n",
       "      <td>14</td>\n",
       "      <td>2020-03-30 16:44:42</td>\n",
       "      <td>3</td>\n",
       "      <td>3</td>\n",
       "      <td>https://www.nytimes.com/2020/03/30/us/coronavi...</td>\n",
       "      <td>2.079442</td>\n",
       "      <td>2.70805</td>\n",
       "      <td>1</td>\n",
       "      <td>'2020/03/30'</td>\n",
       "      <td>'/us/'</td>\n",
       "      <td>us</td>\n",
       "      <td>False</td>\n",
       "    </tr>\n",
       "    <tr>\n",
       "      <th>3</th>\n",
       "      <td>Imagine</td>\n",
       "      <td>imagine</td>\n",
       "      <td>Paper plates and paper bowls are sold out on C...</td>\n",
       "      <td>17</td>\n",
       "      <td>2</td>\n",
       "      <td>False</td>\n",
       "      <td>14</td>\n",
       "      <td>2020-03-30 16:52:11</td>\n",
       "      <td>4</td>\n",
       "      <td>4</td>\n",
       "      <td>https://www.nytimes.com/2020/03/30/us/coronavi...</td>\n",
       "      <td>2.890372</td>\n",
       "      <td>2.70805</td>\n",
       "      <td>1</td>\n",
       "      <td>'2020/03/30'</td>\n",
       "      <td>'/us/'</td>\n",
       "      <td>us</td>\n",
       "      <td>False</td>\n",
       "    </tr>\n",
       "    <tr>\n",
       "      <th>4</th>\n",
       "      <td>Julia</td>\n",
       "      <td>julia</td>\n",
       "      <td>We are (rightly!) hearing a lot of stories of ...</td>\n",
       "      <td>6</td>\n",
       "      <td>1</td>\n",
       "      <td>False</td>\n",
       "      <td>14</td>\n",
       "      <td>2020-03-30 17:32:47</td>\n",
       "      <td>5</td>\n",
       "      <td>5</td>\n",
       "      <td>https://www.nytimes.com/2020/03/30/us/coronavi...</td>\n",
       "      <td>1.945910</td>\n",
       "      <td>2.70805</td>\n",
       "      <td>1</td>\n",
       "      <td>'2020/03/30'</td>\n",
       "      <td>'/us/'</td>\n",
       "      <td>us</td>\n",
       "      <td>False</td>\n",
       "    </tr>\n",
       "  </tbody>\n",
       "</table>\n",
       "</div>"
      ],
      "text/plain": [
       "           userName  cleanName  \\\n",
       "0  Barking Doggerel    barking   \n",
       "1           Boredom    boredom   \n",
       "2         cassandra  cassandra   \n",
       "3           Imagine    imagine   \n",
       "4             Julia      julia   \n",
       "\n",
       "                                             comment  n_recommend  n_reply  \\\n",
       "0  An unfortunately apt display of America's cult...           19        0   \n",
       "1  Not one of the singers shown in the collage ar...            8        0   \n",
       "2  And that good old American marketing virus nev...            7        0   \n",
       "3  Paper plates and paper bowls are sold out on C...           17        2   \n",
       "4  We are (rightly!) hearing a lot of stories of ...            6        1   \n",
       "\n",
       "  nyt_select  ttlCommentNum                 time  time_order  time_order_cap  \\\n",
       "0      False             14  2020-03-30 13:51:22           1               1   \n",
       "1      False             14  2020-03-30 13:51:25           2               2   \n",
       "2      False             14  2020-03-30 16:44:42           3               3   \n",
       "3      False             14  2020-03-30 16:52:11           4               4   \n",
       "4      False             14  2020-03-30 17:32:47           5               5   \n",
       "\n",
       "                                                 url  n_rec_log  \\\n",
       "0  https://www.nytimes.com/2020/03/30/us/coronavi...   2.995732   \n",
       "1  https://www.nytimes.com/2020/03/30/us/coronavi...   2.197225   \n",
       "2  https://www.nytimes.com/2020/03/30/us/coronavi...   2.079442   \n",
       "3  https://www.nytimes.com/2020/03/30/us/coronavi...   2.890372   \n",
       "4  https://www.nytimes.com/2020/03/30/us/coronavi...   1.945910   \n",
       "\n",
       "   ttl_comment_log  gender          date category category_    biz  \n",
       "0          2.70805       2  '2020/03/30'   '/us/'        us  False  \n",
       "1          2.70805       2  '2020/03/30'   '/us/'        us  False  \n",
       "2          2.70805       1  '2020/03/30'   '/us/'        us  False  \n",
       "3          2.70805       1  '2020/03/30'   '/us/'        us  False  \n",
       "4          2.70805       1  '2020/03/30'   '/us/'        us  False  "
      ]
     },
     "execution_count": 11,
     "metadata": {},
     "output_type": "execute_result"
    }
   ],
   "source": [
    "bigdf.head() # Returns dataframe"
   ]
  },
  {
   "cell_type": "code",
   "execution_count": 12,
   "metadata": {},
   "outputs": [
    {
     "data": {
      "text/plain": [
       "(132, 18)"
      ]
     },
     "execution_count": 12,
     "metadata": {},
     "output_type": "execute_result"
    }
   ],
   "source": [
    "bigdf.shape"
   ]
  },
  {
   "cell_type": "markdown",
   "metadata": {},
   "source": [
    "## 4. `get_all_articles_month` function\n",
    "\n",
    "Generates a list of urls with all articles of that year and month. Filters out sections without comments to begin with (i.e. obituaries, crosswords, pageoneplus(edits), real estate, weddings, arts, parenting). Just need to enter the year and month in a string."
   ]
  },
  {
   "cell_type": "code",
   "execution_count": 13,
   "metadata": {},
   "outputs": [],
   "source": [
    "jan_2019 = nyt.get_all_articles_month('2019', '1')"
   ]
  },
  {
   "cell_type": "code",
   "execution_count": 14,
   "metadata": {},
   "outputs": [
    {
     "data": {
      "text/plain": [
       "3599"
      ]
     },
     "execution_count": 14,
     "metadata": {},
     "output_type": "execute_result"
    }
   ],
   "source": [
    "len(jan_2019)"
   ]
  }
 ],
 "metadata": {
  "kernelspec": {
   "display_name": "Python 3",
   "language": "python",
   "name": "python3"
  },
  "language_info": {
   "codemirror_mode": {
    "name": "ipython",
    "version": 3
   },
   "file_extension": ".py",
   "mimetype": "text/x-python",
   "name": "python",
   "nbconvert_exporter": "python",
   "pygments_lexer": "ipython3",
   "version": "3.7.3"
  }
 },
 "nbformat": 4,
 "nbformat_minor": 4
}
